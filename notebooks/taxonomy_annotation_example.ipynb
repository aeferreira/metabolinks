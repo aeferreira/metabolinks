{
 "cells": [
  {
   "cell_type": "markdown",
   "metadata": {},
   "source": [
    "###  Jupyter notebook for feature demonstration of `metabolinks` Python module\n",
    "\n",
    "#### Metabolinks Github home: https://github.com/aeferreira/metabolinks\n",
    "\n",
    "Install metabolinks by running\n",
    "\n",
    "`pip install metabolinks`"
   ]
  },
  {
   "cell_type": "markdown",
   "metadata": {},
   "source": [
    "## Compound taxonomy annotation of MassTRIX results by automatic retrieval of BRITE/KeGG and LIPIDMAPS data."
   ]
  },
  {
   "cell_type": "markdown",
   "metadata": {},
   "source": [
    "This notebook demonstrates compound taxonomy annotation of MassTRIX Results.\n",
    "\n",
    "LipidMaps classes and BRITE/KeGG taxonomy data is inserted as new columns in a results table retrieved from the MassTRIX server.\n",
    "\n",
    "A possible blacklist file can be used, to ignore identifiers."
   ]
  },
  {
   "cell_type": "code",
   "execution_count": null,
   "metadata": {},
   "outputs": [],
   "source": [
    "import time\n",
    "\n",
    "from metabolinks.dataio import read_MassTRIX\n",
    "from metabolinks.taxonomy import insert_taxonomy"
   ]
  },
  {
   "cell_type": "markdown",
   "metadata": {},
   "source": [
    "### Read, clean and check a MassTRIX file with identification results.\n",
    "\n",
    "This file is in the MassTRIX \"compact\" format (one peak, several compounds per line)"
   ]
  },
  {
   "cell_type": "code",
   "execution_count": null,
   "metadata": {},
   "outputs": [],
   "source": [
    "testfile_name = 'MassTRIX_output.tsv'\n",
    "def cleanup_cols(df, isotopes=True, uniqueID=True, columns=None):\n",
    "    \"\"\"Removes the 'uniqueID' and the 'isotope presence' columns.\"\"\"\n",
    "    col_names = []\n",
    "    if uniqueID:\n",
    "        col_names.append(\"uniqueID\")\n",
    "    if isotopes:\n",
    "        iso_names = (\n",
    "            \"C13\",\n",
    "            \"O18\",\n",
    "            \"N15\",\n",
    "            \"S34\",\n",
    "            \"Mg25\",\n",
    "            \"Mg26\",\n",
    "            \"Fe54\",\n",
    "            \"Fe57\",\n",
    "            \"Ca44\",\n",
    "            \"Cl37\",\n",
    "            \"K41\",\n",
    "        )\n",
    "        col_names.extend(iso_names)\n",
    "    if columns is not None:\n",
    "        col_names.extend(columns)\n",
    "    return df.drop(col_names, axis=1)\n",
    "\n",
    "df = read_MassTRIX(testfile_name)\n",
    "df = cleanup_cols(df) # removes uniqueID and 'isotopes' columns\n",
    "\n",
    "print(f\"File {testfile_name} was read\")\n",
    "df.info() # assert that there are 15 entries and 24 - 12 = 12 columns\n",
    "df.head()"
   ]
  },
  {
   "cell_type": "markdown",
   "metadata": {},
   "source": [
    "### Annotate results with compound taxonomy.\n",
    "\n",
    "(Use *trace=True* as an argument to activate tracing of annotations)"
   ]
  },
  {
   "cell_type": "code",
   "execution_count": null,
   "metadata": {
    "scrolled": true
   },
   "outputs": [],
   "source": [
    "print ('Starting annotating...\\n')\n",
    "start_time = time.time()\n",
    "\n",
    "df = insert_taxonomy(df)\n",
    "\n",
    "elapsed_time = time.time() - start_time\n",
    "m, s = divmod(elapsed_time, 60)\n",
    "print (\"Finished in \" + \"%02dm%02ds\" % (m, s))"
   ]
  },
  {
   "cell_type": "code",
   "execution_count": null,
   "metadata": {},
   "outputs": [],
   "source": [
    "# check result\n",
    "df.info()\n",
    "df[['trans_KEGG_Ids',\n",
    "    'trans_LipidMaps_Ids',\n",
    "    'Major Class', 'Class',\n",
    "    'Secondary Class',\n",
    "    'Tertiary Class',\n",
    "    'KNApSAcK']].head(10)"
   ]
  },
  {
   "cell_type": "markdown",
   "metadata": {},
   "source": [
    "### Export the annotated dataframe into a MS-Excel file\n",
    "\n",
    "Use the same name as the MassTRIX .tsv data file, replacing tail with '_raw.xlsx'"
   ]
  },
  {
   "cell_type": "code",
   "execution_count": null,
   "metadata": {},
   "outputs": [],
   "source": [
    "out_fname = testfile_name[:-4]+'_compound_taxa.xlsx'\n",
    "\n",
    "df.to_excel(out_fname, header=True, index=False)\n",
    "\n",
    "print(f\"File {out_fname} created\")"
   ]
  },
  {
   "cell_type": "markdown",
   "metadata": {},
   "source": [
    "### Annotate results with compound taxonomy but, this time, use a black list of BRITE ids.\n",
    "\n",
    "#### Also, use *trace=True* as an argument to activate tracing of annotations"
   ]
  },
  {
   "cell_type": "code",
   "execution_count": null,
   "metadata": {
    "scrolled": false
   },
   "outputs": [],
   "source": [
    "start_time = time.time()\n",
    "\n",
    "print ('Starting annotating...\\n')\n",
    "\n",
    "df = read_MassTRIX(testfile_name)\n",
    "df = cleanup_cols(df)\n",
    "\n",
    "print(f\"File {testfile_name} was read\\n\")\n",
    "\n",
    "black_list_fname = 'blacklist.txt'\n",
    "\n",
    "df = insert_taxonomy(df, brite_blacklist=black_list_fname, trace=True)\n",
    "\n",
    "elapsed_time = time.time() - start_time\n",
    "m, s = divmod(elapsed_time, 60)\n",
    "print (\"Finished in \" + \"%02dm%02ds\" % (m, s))"
   ]
  },
  {
   "cell_type": "code",
   "execution_count": null,
   "metadata": {},
   "outputs": [],
   "source": [
    "# check result\n",
    "df[['trans_KEGG_Ids',\n",
    "    'trans_LipidMaps_Ids',\n",
    "    'Major Class', 'Class',\n",
    "    'Secondary Class',\n",
    "    'Tertiary Class',\n",
    "    'KNApSAcK']].head(10)"
   ]
  },
  {
   "cell_type": "code",
   "execution_count": null,
   "metadata": {},
   "outputs": [],
   "source": []
  }
 ],
 "metadata": {
  "anaconda-cloud": {},
  "kernelspec": {
   "display_name": "Python 3",
   "language": "python",
   "name": "python3"
  },
  "language_info": {
   "codemirror_mode": {
    "name": "ipython",
    "version": 3
   },
   "file_extension": ".py",
   "mimetype": "text/x-python",
   "name": "python",
   "nbconvert_exporter": "python",
   "pygments_lexer": "ipython3",
   "version": "3.7.6"
  }
 },
 "nbformat": 4,
 "nbformat_minor": 1
}
