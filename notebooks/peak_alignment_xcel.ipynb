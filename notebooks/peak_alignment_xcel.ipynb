{
 "cells": [
  {
   "cell_type": "markdown",
   "execution_count": null,
   "metadata": {},
   "outputs": [],
   "source": [
    "###  Jupyter notebook for feature demonstration of `metabolinks` Python module\n",
    "\n",
    "#### Metabolinks Github home: https://github.com/aeferreira/metabolinks\n",
    "\n",
    "Install metabolinks by running\n",
    "\n",
    "`pip install metabolinks`"
   ]
  },
  {
   "cell_type": "markdown",
   "execution_count": null,
   "metadata": {},
   "outputs": [],
   "source": [
    "## Peak alignment for peak tables contained in MS-Excel sheets"
   ]
  },
  {
   "cell_type": "markdown",
   "execution_count": null,
   "metadata": {},
   "outputs": [],
   "source": [
    "This notebook demonstrates peak alignment, based on m/z proximity.\n",
    "\n",
    "A given **m/z ppm tolerance** defines the maximum relative deviation in the values of m/z from different peak lists to be considered the same peak in the resulting aligned peak table.\n",
    "\n",
    "Each peak list is a table of |m/z , Signal| values. Intensities are not considered, just copied over to the final table, and m/z values are averaged in each aligned group.\n",
    "\n",
    "Sample names are also copied over to the final table. This notebook illustrates the assignment of labels to data\n",
    "\n",
    "An alignment is performed within each Excel worksheet. This means that several peak tables should be contained in the same worksheet. In the example data, in file `sample_data.xlsx`, each excel worksheet contains three samples obtained under different sample extraction methods.\n",
    "\n",
    "This notebook also illustrates saving the results to an Excel file and to a CSV file."
   ]
  },
  {
   "cell_type": "markdown",
   "execution_count": null,
   "metadata": {},
   "outputs": [],
   "source": [
    "### Function `align()`\n",
    "\n",
    "The function `align()` performs the correspondence between peak lists and joins the data in a new table.\n",
    "\n",
    "Parameters of this function are:\n",
    "\n",
    "- a list (or any sequence) of Pandas DataFrames with data organized with \"samples in columns\". The index of the DataFrame should be interpreted as m/ values.\n",
    "\n",
    "- `ppmtol` the tolerance, in ppm, for the deviation between m/z values of the same peak in different tables. Default is 1 ppm.\n",
    "- `min_samples` reproducibility threshold: the minimum number of occurances of a given peak to be included in the aligned table. Default is 1.\n",
    "\n",
    "- `return_alignment_desc` (default is False) whether to return stats for each group found.\n",
    "\n",
    "Returns a Pandas DataFrame with the peak lists aligned."
   ]
  },
  {
   "cell_type": "markdown",
   "execution_count": null,
   "metadata": {},
   "outputs": [],
   "source": [
    "### Read in data"
   ]
  },
  {
   "cell_type": "code",
   "execution_count": null,
   "metadata": {},
   "outputs": [],
   "source": [
    "import pandas as pd\n",
    "from metabolinks import add_labels, read_data_from_xcel, align\n",
    "\n",
    "file_name = 'sample_data.xlsx'\n",
    "out_fname = 'aligned_data.xlsx'\n",
    "\n",
    "data_sets = read_data_from_xcel(file_name, header=[0, 1], drop_header_levels=1)\n",
    "\n",
    "data_sets"
   ]
  },
  {
   "cell_type": "markdown",
   "execution_count": null,
   "metadata": {},
   "outputs": [],
   "source": [
    "### Perform alignment"
   ]
  },
  {
   "cell_type": "code",
   "execution_count": null,
   "metadata": {},
   "outputs": [],
   "source": [
    "ppmtol = 1.0\n",
    "min_samples = 1\n",
    "labels = ['wt', 'mod', 'mod']\n",
    "\n",
    "print(f'------ Aligning tables in each Excel sheet {file_name} ...')\n",
    "results = {}\n",
    "for d in data_sets:\n",
    "    print(f'\\n+++++++ sheet {d} +++++++')\n",
    "    aligned, desc = align(data_sets[d],\n",
    "                          min_samples=min_samples, \n",
    "                          ppmtol=ppmtol,\n",
    "                          return_alignment_desc=True,\n",
    "                          verbose=True)\n",
    "    \n",
    "    aligned = add_labels(aligned, labels)\n",
    "    aligned.columns.names = ['label', 'sample']\n",
    "    \n",
    "    print('\\n--- Result: --------------------')\n",
    "    print(aligned)\n",
    "    print('+++++++++++++++++++++++++++++')\n",
    "    # keep results in a dictionary\n",
    "    results[d] = aligned\n",
    "    results['groups {}'.format(d)] = desc\n"
   ]
  },
  {
   "cell_type": "markdown",
   "execution_count": null,
   "metadata": {},
   "outputs": [],
   "source": [
    "### Save aligned sheets to Excel"
   ]
  },
  {
   "cell_type": "code",
   "execution_count": null,
   "metadata": {},
   "outputs": [],
   "source": [
    "with pd.ExcelWriter(out_fname) as writer:\n",
    "    for sname in results:\n",
    "        results[sname].to_excel(writer, sheet_name=sname)\n"
   ]
  },
  {
   "cell_type": "markdown",
   "execution_count": null,
   "metadata": {},
   "outputs": [],
   "source": [
    "### Save results to CSV (several files, one per sheet)"
   ]
  },
  {
   "cell_type": "code",
   "execution_count": null,
   "metadata": {},
   "outputs": [],
   "source": [
    "for sname in results:\n",
    "    if not sname.startswith('groups'): # skip descriptions of groups\n",
    "        name = f'aligned_{sname}.csv'\n",
    "        results[sname].to_csv(name)"
   ]
  },
  {
   "cell_type": "code",
   "execution_count": null,
   "metadata": {},
   "outputs": [],
   "source": []
  }
 ],
 "metadata": {
  "anaconda-cloud": {},
  "kernelspec": {
   "display_name": "Python 3",
   "language": "python",
   "name": "python3"
  },
  "language_info": {
   "codemirror_mode": {
    "name": "ipython",
    "version": 3
   },
   "file_extension": ".py",
   "mimetype": "text/x-python",
   "name": "python",
   "nbconvert_exporter": "python",
   "pygments_lexer": "ipython3",
   "version": "3.7.3-final"
  }
 },
 "nbformat": 4,
 "nbformat_minor": 1
}